{
 "cells": [
  {
   "cell_type": "markdown",
   "source": [
    "Tests performance of various nearest neighbors classifiers using similartiy scores derived from pretrained arcface embeddings.\n",
    "\n",
    "End goal is to have reasonably good results when searching by an identity. Also need a way to reliably identify probes that are not in the gallery.\n",
    "\n",
    "One solution is to use a hybrid of k nearest neighbors and radius neighbors. Remove all neighbors with too great a distance, then have voting by k-nearest. If no neighbors are present, label probe as outlier (ie, not in gallery)\n",
    "\n",
    "In the end, radius neighbors with weighting by distance ends up giving better performance anyway. Ends up getting 100% accuracy on current data set.\n",
    "\n",
    "#### To do\n",
    "\n",
    "Need to return with a larger number of classes to better test performance. Can also add more non-gallery probes by pulling from megaface.\n",
    "\n",
    "Also need to optimize on precision and recall once there's a bigger dataset."
   ],
   "metadata": {
    "collapsed": false,
    "pycharm": {
     "name": "#%% md\n"
    }
   }
  },
  {
   "cell_type": "code",
   "execution_count": 1,
   "outputs": [],
   "source": [
    "import torch\n",
    "from torch.utils.data import DataLoader,  SequentialSampler\n",
    "from torchvision import datasets, transforms\n",
    "import numpy as np\n",
    "import os"
   ],
   "metadata": {
    "collapsed": false,
    "pycharm": {
     "name": "#%%\n"
    }
   }
  },
  {
   "cell_type": "code",
   "execution_count": 2,
   "outputs": [],
   "source": [
    "data_dir = 'data/zack_erin_other'\n",
    "\n",
    "batch_size = 16\n",
    "epochs = 15\n",
    "workers = 0 if os.name == 'nt' else 8"
   ],
   "metadata": {
    "collapsed": false,
    "pycharm": {
     "name": "#%%\n"
    }
   }
  },
  {
   "cell_type": "code",
   "execution_count": 3,
   "outputs": [
    {
     "name": "stdout",
     "output_type": "stream",
     "text": [
      "Running on device: cuda:0\n"
     ]
    }
   ],
   "source": [
    "device = torch.device('cuda:0' if torch.cuda.is_available() else 'cpu')\n",
    "print('Running on device: {}'.format(device))"
   ],
   "metadata": {
    "collapsed": false,
    "pycharm": {
     "name": "#%%\n"
    }
   }
  },
  {
   "cell_type": "code",
   "execution_count": 4,
   "outputs": [],
   "source": [
    "from data_gen import data_transforms"
   ],
   "metadata": {
    "collapsed": false,
    "pycharm": {
     "name": "#%%\n"
    }
   }
  },
  {
   "cell_type": "code",
   "execution_count": 5,
   "outputs": [],
   "source": [
    "#create dataset and data loaders from cropped images output from MTCNN\n",
    "\n",
    "# trans = transforms.Compose([\n",
    "#     np.float32,\n",
    "#     transforms.ToTensor(),\n",
    "#     fixed_image_standardization\n",
    "# ])\n",
    "\n",
    "trans = data_transforms['val']\n",
    "\n",
    "#Training set can be much smaller because we aren't actually training, just creating a \"template\" in the gallery\n",
    "dataset = datasets.ImageFolder(data_dir + '_cropped', transform=trans)\n",
    "img_inds = np.arange(len(dataset))\n",
    "\n",
    "classes = dataset.classes\n",
    "print(classes)\n",
    "\n",
    "#no need to randomize. there will be only one epoch. Basically don't need the dataloader except for batch control\n",
    "embed_loader = DataLoader(\n",
    "    dataset,\n",
    "    num_workers=workers,\n",
    "    batch_size=batch_size,\n",
    "    sampler=SequentialSampler(dataset)\n",
    ")"
   ],
   "metadata": {
    "collapsed": false,
    "pycharm": {
     "name": "#%%\n"
    }
   }
  },
  {
   "cell_type": "code",
   "execution_count": 6,
   "outputs": [
    {
     "name": "stderr",
     "output_type": "stream",
     "text": [
      "/home/zack/miniconda3/envs/pytorch/lib/python3.7/site-packages/torch/serialization.py:649: SourceChangeWarning: source code of class 'torch.nn.parallel.data_parallel.DataParallel' has changed. you can retrieve the original source code by accessing the object's source attribute or set `torch.nn.Module.dump_patches = True` and use the patch tool to revert the changes.\n",
      "  warnings.warn(msg, SourceChangeWarning)\n",
      "/home/zack/miniconda3/envs/pytorch/lib/python3.7/site-packages/torch/serialization.py:649: SourceChangeWarning: source code of class 'torch.nn.modules.conv.Conv2d' has changed. you can retrieve the original source code by accessing the object's source attribute or set `torch.nn.Module.dump_patches = True` and use the patch tool to revert the changes.\n",
      "  warnings.warn(msg, SourceChangeWarning)\n",
      "/home/zack/miniconda3/envs/pytorch/lib/python3.7/site-packages/torch/serialization.py:649: SourceChangeWarning: source code of class 'torch.nn.modules.batchnorm.BatchNorm2d' has changed. you can retrieve the original source code by accessing the object's source attribute or set `torch.nn.Module.dump_patches = True` and use the patch tool to revert the changes.\n",
      "  warnings.warn(msg, SourceChangeWarning)\n",
      "/home/zack/miniconda3/envs/pytorch/lib/python3.7/site-packages/torch/serialization.py:649: SourceChangeWarning: source code of class 'torch.nn.modules.activation.PReLU' has changed. you can retrieve the original source code by accessing the object's source attribute or set `torch.nn.Module.dump_patches = True` and use the patch tool to revert the changes.\n",
      "  warnings.warn(msg, SourceChangeWarning)\n",
      "/home/zack/miniconda3/envs/pytorch/lib/python3.7/site-packages/torch/serialization.py:649: SourceChangeWarning: source code of class 'torch.nn.modules.pooling.MaxPool2d' has changed. you can retrieve the original source code by accessing the object's source attribute or set `torch.nn.Module.dump_patches = True` and use the patch tool to revert the changes.\n",
      "  warnings.warn(msg, SourceChangeWarning)\n",
      "/home/zack/miniconda3/envs/pytorch/lib/python3.7/site-packages/torch/serialization.py:649: SourceChangeWarning: source code of class 'torch.nn.modules.container.Sequential' has changed. you can retrieve the original source code by accessing the object's source attribute or set `torch.nn.Module.dump_patches = True` and use the patch tool to revert the changes.\n",
      "  warnings.warn(msg, SourceChangeWarning)\n",
      "/home/zack/miniconda3/envs/pytorch/lib/python3.7/site-packages/torch/serialization.py:649: SourceChangeWarning: source code of class 'torch.nn.modules.pooling.AdaptiveAvgPool2d' has changed. you can retrieve the original source code by accessing the object's source attribute or set `torch.nn.Module.dump_patches = True` and use the patch tool to revert the changes.\n",
      "  warnings.warn(msg, SourceChangeWarning)\n",
      "/home/zack/miniconda3/envs/pytorch/lib/python3.7/site-packages/torch/serialization.py:649: SourceChangeWarning: source code of class 'torch.nn.modules.linear.Linear' has changed. you can retrieve the original source code by accessing the object's source attribute or set `torch.nn.Module.dump_patches = True` and use the patch tool to revert the changes.\n",
      "  warnings.warn(msg, SourceChangeWarning)\n",
      "/home/zack/miniconda3/envs/pytorch/lib/python3.7/site-packages/torch/serialization.py:649: SourceChangeWarning: source code of class 'torch.nn.modules.activation.Sigmoid' has changed. you can retrieve the original source code by accessing the object's source attribute or set `torch.nn.Module.dump_patches = True` and use the patch tool to revert the changes.\n",
      "  warnings.warn(msg, SourceChangeWarning)\n",
      "/home/zack/miniconda3/envs/pytorch/lib/python3.7/site-packages/torch/serialization.py:649: SourceChangeWarning: source code of class 'torch.nn.modules.dropout.Dropout' has changed. you can retrieve the original source code by accessing the object's source attribute or set `torch.nn.Module.dump_patches = True` and use the patch tool to revert the changes.\n",
      "  warnings.warn(msg, SourceChangeWarning)\n",
      "/home/zack/miniconda3/envs/pytorch/lib/python3.7/site-packages/torch/serialization.py:649: SourceChangeWarning: source code of class 'torch.nn.modules.batchnorm.BatchNorm1d' has changed. you can retrieve the original source code by accessing the object's source attribute or set `torch.nn.Module.dump_patches = True` and use the patch tool to revert the changes.\n",
      "  warnings.warn(msg, SourceChangeWarning)\n"
     ]
    },
    {
     "data": {
      "text/plain": "ResNet(\n  (conv1): Conv2d(3, 64, kernel_size=(3, 3), stride=(1, 1), bias=False)\n  (bn1): BatchNorm2d(64, eps=1e-05, momentum=0.1, affine=True, track_running_stats=True)\n  (prelu): PReLU(num_parameters=1)\n  (maxpool): MaxPool2d(kernel_size=2, stride=2, padding=0, dilation=1, ceil_mode=False)\n  (layer1): Sequential(\n    (0): IRBlock(\n      (bn0): BatchNorm2d(64, eps=1e-05, momentum=0.1, affine=True, track_running_stats=True)\n      (conv1): Conv2d(64, 64, kernel_size=(3, 3), stride=(1, 1), padding=(1, 1), bias=False)\n      (bn1): BatchNorm2d(64, eps=1e-05, momentum=0.1, affine=True, track_running_stats=True)\n      (prelu): PReLU(num_parameters=1)\n      (conv2): Conv2d(64, 64, kernel_size=(3, 3), stride=(1, 1), padding=(1, 1), bias=False)\n      (bn2): BatchNorm2d(64, eps=1e-05, momentum=0.1, affine=True, track_running_stats=True)\n      (se): SEBlock(\n        (avg_pool): AdaptiveAvgPool2d(output_size=1)\n        (fc): Sequential(\n          (0): Linear(in_features=64, out_features=4, bias=True)\n          (1): PReLU(num_parameters=1)\n          (2): Linear(in_features=4, out_features=64, bias=True)\n          (3): Sigmoid()\n        )\n      )\n    )\n    (1): IRBlock(\n      (bn0): BatchNorm2d(64, eps=1e-05, momentum=0.1, affine=True, track_running_stats=True)\n      (conv1): Conv2d(64, 64, kernel_size=(3, 3), stride=(1, 1), padding=(1, 1), bias=False)\n      (bn1): BatchNorm2d(64, eps=1e-05, momentum=0.1, affine=True, track_running_stats=True)\n      (prelu): PReLU(num_parameters=1)\n      (conv2): Conv2d(64, 64, kernel_size=(3, 3), stride=(1, 1), padding=(1, 1), bias=False)\n      (bn2): BatchNorm2d(64, eps=1e-05, momentum=0.1, affine=True, track_running_stats=True)\n      (se): SEBlock(\n        (avg_pool): AdaptiveAvgPool2d(output_size=1)\n        (fc): Sequential(\n          (0): Linear(in_features=64, out_features=4, bias=True)\n          (1): PReLU(num_parameters=1)\n          (2): Linear(in_features=4, out_features=64, bias=True)\n          (3): Sigmoid()\n        )\n      )\n    )\n    (2): IRBlock(\n      (bn0): BatchNorm2d(64, eps=1e-05, momentum=0.1, affine=True, track_running_stats=True)\n      (conv1): Conv2d(64, 64, kernel_size=(3, 3), stride=(1, 1), padding=(1, 1), bias=False)\n      (bn1): BatchNorm2d(64, eps=1e-05, momentum=0.1, affine=True, track_running_stats=True)\n      (prelu): PReLU(num_parameters=1)\n      (conv2): Conv2d(64, 64, kernel_size=(3, 3), stride=(1, 1), padding=(1, 1), bias=False)\n      (bn2): BatchNorm2d(64, eps=1e-05, momentum=0.1, affine=True, track_running_stats=True)\n      (se): SEBlock(\n        (avg_pool): AdaptiveAvgPool2d(output_size=1)\n        (fc): Sequential(\n          (0): Linear(in_features=64, out_features=4, bias=True)\n          (1): PReLU(num_parameters=1)\n          (2): Linear(in_features=4, out_features=64, bias=True)\n          (3): Sigmoid()\n        )\n      )\n    )\n  )\n  (layer2): Sequential(\n    (0): IRBlock(\n      (bn0): BatchNorm2d(64, eps=1e-05, momentum=0.1, affine=True, track_running_stats=True)\n      (conv1): Conv2d(64, 64, kernel_size=(3, 3), stride=(1, 1), padding=(1, 1), bias=False)\n      (bn1): BatchNorm2d(64, eps=1e-05, momentum=0.1, affine=True, track_running_stats=True)\n      (prelu): PReLU(num_parameters=1)\n      (conv2): Conv2d(64, 128, kernel_size=(3, 3), stride=(2, 2), padding=(1, 1), bias=False)\n      (bn2): BatchNorm2d(128, eps=1e-05, momentum=0.1, affine=True, track_running_stats=True)\n      (downsample): Sequential(\n        (0): Conv2d(64, 128, kernel_size=(1, 1), stride=(2, 2), bias=False)\n        (1): BatchNorm2d(128, eps=1e-05, momentum=0.1, affine=True, track_running_stats=True)\n      )\n      (se): SEBlock(\n        (avg_pool): AdaptiveAvgPool2d(output_size=1)\n        (fc): Sequential(\n          (0): Linear(in_features=128, out_features=8, bias=True)\n          (1): PReLU(num_parameters=1)\n          (2): Linear(in_features=8, out_features=128, bias=True)\n          (3): Sigmoid()\n        )\n      )\n    )\n    (1): IRBlock(\n      (bn0): BatchNorm2d(128, eps=1e-05, momentum=0.1, affine=True, track_running_stats=True)\n      (conv1): Conv2d(128, 128, kernel_size=(3, 3), stride=(1, 1), padding=(1, 1), bias=False)\n      (bn1): BatchNorm2d(128, eps=1e-05, momentum=0.1, affine=True, track_running_stats=True)\n      (prelu): PReLU(num_parameters=1)\n      (conv2): Conv2d(128, 128, kernel_size=(3, 3), stride=(1, 1), padding=(1, 1), bias=False)\n      (bn2): BatchNorm2d(128, eps=1e-05, momentum=0.1, affine=True, track_running_stats=True)\n      (se): SEBlock(\n        (avg_pool): AdaptiveAvgPool2d(output_size=1)\n        (fc): Sequential(\n          (0): Linear(in_features=128, out_features=8, bias=True)\n          (1): PReLU(num_parameters=1)\n          (2): Linear(in_features=8, out_features=128, bias=True)\n          (3): Sigmoid()\n        )\n      )\n    )\n    (2): IRBlock(\n      (bn0): BatchNorm2d(128, eps=1e-05, momentum=0.1, affine=True, track_running_stats=True)\n      (conv1): Conv2d(128, 128, kernel_size=(3, 3), stride=(1, 1), padding=(1, 1), bias=False)\n      (bn1): BatchNorm2d(128, eps=1e-05, momentum=0.1, affine=True, track_running_stats=True)\n      (prelu): PReLU(num_parameters=1)\n      (conv2): Conv2d(128, 128, kernel_size=(3, 3), stride=(1, 1), padding=(1, 1), bias=False)\n      (bn2): BatchNorm2d(128, eps=1e-05, momentum=0.1, affine=True, track_running_stats=True)\n      (se): SEBlock(\n        (avg_pool): AdaptiveAvgPool2d(output_size=1)\n        (fc): Sequential(\n          (0): Linear(in_features=128, out_features=8, bias=True)\n          (1): PReLU(num_parameters=1)\n          (2): Linear(in_features=8, out_features=128, bias=True)\n          (3): Sigmoid()\n        )\n      )\n    )\n    (3): IRBlock(\n      (bn0): BatchNorm2d(128, eps=1e-05, momentum=0.1, affine=True, track_running_stats=True)\n      (conv1): Conv2d(128, 128, kernel_size=(3, 3), stride=(1, 1), padding=(1, 1), bias=False)\n      (bn1): BatchNorm2d(128, eps=1e-05, momentum=0.1, affine=True, track_running_stats=True)\n      (prelu): PReLU(num_parameters=1)\n      (conv2): Conv2d(128, 128, kernel_size=(3, 3), stride=(1, 1), padding=(1, 1), bias=False)\n      (bn2): BatchNorm2d(128, eps=1e-05, momentum=0.1, affine=True, track_running_stats=True)\n      (se): SEBlock(\n        (avg_pool): AdaptiveAvgPool2d(output_size=1)\n        (fc): Sequential(\n          (0): Linear(in_features=128, out_features=8, bias=True)\n          (1): PReLU(num_parameters=1)\n          (2): Linear(in_features=8, out_features=128, bias=True)\n          (3): Sigmoid()\n        )\n      )\n    )\n  )\n  (layer3): Sequential(\n    (0): IRBlock(\n      (bn0): BatchNorm2d(128, eps=1e-05, momentum=0.1, affine=True, track_running_stats=True)\n      (conv1): Conv2d(128, 128, kernel_size=(3, 3), stride=(1, 1), padding=(1, 1), bias=False)\n      (bn1): BatchNorm2d(128, eps=1e-05, momentum=0.1, affine=True, track_running_stats=True)\n      (prelu): PReLU(num_parameters=1)\n      (conv2): Conv2d(128, 256, kernel_size=(3, 3), stride=(2, 2), padding=(1, 1), bias=False)\n      (bn2): BatchNorm2d(256, eps=1e-05, momentum=0.1, affine=True, track_running_stats=True)\n      (downsample): Sequential(\n        (0): Conv2d(128, 256, kernel_size=(1, 1), stride=(2, 2), bias=False)\n        (1): BatchNorm2d(256, eps=1e-05, momentum=0.1, affine=True, track_running_stats=True)\n      )\n      (se): SEBlock(\n        (avg_pool): AdaptiveAvgPool2d(output_size=1)\n        (fc): Sequential(\n          (0): Linear(in_features=256, out_features=16, bias=True)\n          (1): PReLU(num_parameters=1)\n          (2): Linear(in_features=16, out_features=256, bias=True)\n          (3): Sigmoid()\n        )\n      )\n    )\n    (1): IRBlock(\n      (bn0): BatchNorm2d(256, eps=1e-05, momentum=0.1, affine=True, track_running_stats=True)\n      (conv1): Conv2d(256, 256, kernel_size=(3, 3), stride=(1, 1), padding=(1, 1), bias=False)\n      (bn1): BatchNorm2d(256, eps=1e-05, momentum=0.1, affine=True, track_running_stats=True)\n      (prelu): PReLU(num_parameters=1)\n      (conv2): Conv2d(256, 256, kernel_size=(3, 3), stride=(1, 1), padding=(1, 1), bias=False)\n      (bn2): BatchNorm2d(256, eps=1e-05, momentum=0.1, affine=True, track_running_stats=True)\n      (se): SEBlock(\n        (avg_pool): AdaptiveAvgPool2d(output_size=1)\n        (fc): Sequential(\n          (0): Linear(in_features=256, out_features=16, bias=True)\n          (1): PReLU(num_parameters=1)\n          (2): Linear(in_features=16, out_features=256, bias=True)\n          (3): Sigmoid()\n        )\n      )\n    )\n    (2): IRBlock(\n      (bn0): BatchNorm2d(256, eps=1e-05, momentum=0.1, affine=True, track_running_stats=True)\n      (conv1): Conv2d(256, 256, kernel_size=(3, 3), stride=(1, 1), padding=(1, 1), bias=False)\n      (bn1): BatchNorm2d(256, eps=1e-05, momentum=0.1, affine=True, track_running_stats=True)\n      (prelu): PReLU(num_parameters=1)\n      (conv2): Conv2d(256, 256, kernel_size=(3, 3), stride=(1, 1), padding=(1, 1), bias=False)\n      (bn2): BatchNorm2d(256, eps=1e-05, momentum=0.1, affine=True, track_running_stats=True)\n      (se): SEBlock(\n        (avg_pool): AdaptiveAvgPool2d(output_size=1)\n        (fc): Sequential(\n          (0): Linear(in_features=256, out_features=16, bias=True)\n          (1): PReLU(num_parameters=1)\n          (2): Linear(in_features=16, out_features=256, bias=True)\n          (3): Sigmoid()\n        )\n      )\n    )\n    (3): IRBlock(\n      (bn0): BatchNorm2d(256, eps=1e-05, momentum=0.1, affine=True, track_running_stats=True)\n      (conv1): Conv2d(256, 256, kernel_size=(3, 3), stride=(1, 1), padding=(1, 1), bias=False)\n      (bn1): BatchNorm2d(256, eps=1e-05, momentum=0.1, affine=True, track_running_stats=True)\n      (prelu): PReLU(num_parameters=1)\n      (conv2): Conv2d(256, 256, kernel_size=(3, 3), stride=(1, 1), padding=(1, 1), bias=False)\n      (bn2): BatchNorm2d(256, eps=1e-05, momentum=0.1, affine=True, track_running_stats=True)\n      (se): SEBlock(\n        (avg_pool): AdaptiveAvgPool2d(output_size=1)\n        (fc): Sequential(\n          (0): Linear(in_features=256, out_features=16, bias=True)\n          (1): PReLU(num_parameters=1)\n          (2): Linear(in_features=16, out_features=256, bias=True)\n          (3): Sigmoid()\n        )\n      )\n    )\n    (4): IRBlock(\n      (bn0): BatchNorm2d(256, eps=1e-05, momentum=0.1, affine=True, track_running_stats=True)\n      (conv1): Conv2d(256, 256, kernel_size=(3, 3), stride=(1, 1), padding=(1, 1), bias=False)\n      (bn1): BatchNorm2d(256, eps=1e-05, momentum=0.1, affine=True, track_running_stats=True)\n      (prelu): PReLU(num_parameters=1)\n      (conv2): Conv2d(256, 256, kernel_size=(3, 3), stride=(1, 1), padding=(1, 1), bias=False)\n      (bn2): BatchNorm2d(256, eps=1e-05, momentum=0.1, affine=True, track_running_stats=True)\n      (se): SEBlock(\n        (avg_pool): AdaptiveAvgPool2d(output_size=1)\n        (fc): Sequential(\n          (0): Linear(in_features=256, out_features=16, bias=True)\n          (1): PReLU(num_parameters=1)\n          (2): Linear(in_features=16, out_features=256, bias=True)\n          (3): Sigmoid()\n        )\n      )\n    )\n    (5): IRBlock(\n      (bn0): BatchNorm2d(256, eps=1e-05, momentum=0.1, affine=True, track_running_stats=True)\n      (conv1): Conv2d(256, 256, kernel_size=(3, 3), stride=(1, 1), padding=(1, 1), bias=False)\n      (bn1): BatchNorm2d(256, eps=1e-05, momentum=0.1, affine=True, track_running_stats=True)\n      (prelu): PReLU(num_parameters=1)\n      (conv2): Conv2d(256, 256, kernel_size=(3, 3), stride=(1, 1), padding=(1, 1), bias=False)\n      (bn2): BatchNorm2d(256, eps=1e-05, momentum=0.1, affine=True, track_running_stats=True)\n      (se): SEBlock(\n        (avg_pool): AdaptiveAvgPool2d(output_size=1)\n        (fc): Sequential(\n          (0): Linear(in_features=256, out_features=16, bias=True)\n          (1): PReLU(num_parameters=1)\n          (2): Linear(in_features=16, out_features=256, bias=True)\n          (3): Sigmoid()\n        )\n      )\n    )\n    (6): IRBlock(\n      (bn0): BatchNorm2d(256, eps=1e-05, momentum=0.1, affine=True, track_running_stats=True)\n      (conv1): Conv2d(256, 256, kernel_size=(3, 3), stride=(1, 1), padding=(1, 1), bias=False)\n      (bn1): BatchNorm2d(256, eps=1e-05, momentum=0.1, affine=True, track_running_stats=True)\n      (prelu): PReLU(num_parameters=1)\n      (conv2): Conv2d(256, 256, kernel_size=(3, 3), stride=(1, 1), padding=(1, 1), bias=False)\n      (bn2): BatchNorm2d(256, eps=1e-05, momentum=0.1, affine=True, track_running_stats=True)\n      (se): SEBlock(\n        (avg_pool): AdaptiveAvgPool2d(output_size=1)\n        (fc): Sequential(\n          (0): Linear(in_features=256, out_features=16, bias=True)\n          (1): PReLU(num_parameters=1)\n          (2): Linear(in_features=16, out_features=256, bias=True)\n          (3): Sigmoid()\n        )\n      )\n    )\n    (7): IRBlock(\n      (bn0): BatchNorm2d(256, eps=1e-05, momentum=0.1, affine=True, track_running_stats=True)\n      (conv1): Conv2d(256, 256, kernel_size=(3, 3), stride=(1, 1), padding=(1, 1), bias=False)\n      (bn1): BatchNorm2d(256, eps=1e-05, momentum=0.1, affine=True, track_running_stats=True)\n      (prelu): PReLU(num_parameters=1)\n      (conv2): Conv2d(256, 256, kernel_size=(3, 3), stride=(1, 1), padding=(1, 1), bias=False)\n      (bn2): BatchNorm2d(256, eps=1e-05, momentum=0.1, affine=True, track_running_stats=True)\n      (se): SEBlock(\n        (avg_pool): AdaptiveAvgPool2d(output_size=1)\n        (fc): Sequential(\n          (0): Linear(in_features=256, out_features=16, bias=True)\n          (1): PReLU(num_parameters=1)\n          (2): Linear(in_features=16, out_features=256, bias=True)\n          (3): Sigmoid()\n        )\n      )\n    )\n    (8): IRBlock(\n      (bn0): BatchNorm2d(256, eps=1e-05, momentum=0.1, affine=True, track_running_stats=True)\n      (conv1): Conv2d(256, 256, kernel_size=(3, 3), stride=(1, 1), padding=(1, 1), bias=False)\n      (bn1): BatchNorm2d(256, eps=1e-05, momentum=0.1, affine=True, track_running_stats=True)\n      (prelu): PReLU(num_parameters=1)\n      (conv2): Conv2d(256, 256, kernel_size=(3, 3), stride=(1, 1), padding=(1, 1), bias=False)\n      (bn2): BatchNorm2d(256, eps=1e-05, momentum=0.1, affine=True, track_running_stats=True)\n      (se): SEBlock(\n        (avg_pool): AdaptiveAvgPool2d(output_size=1)\n        (fc): Sequential(\n          (0): Linear(in_features=256, out_features=16, bias=True)\n          (1): PReLU(num_parameters=1)\n          (2): Linear(in_features=16, out_features=256, bias=True)\n          (3): Sigmoid()\n        )\n      )\n    )\n    (9): IRBlock(\n      (bn0): BatchNorm2d(256, eps=1e-05, momentum=0.1, affine=True, track_running_stats=True)\n      (conv1): Conv2d(256, 256, kernel_size=(3, 3), stride=(1, 1), padding=(1, 1), bias=False)\n      (bn1): BatchNorm2d(256, eps=1e-05, momentum=0.1, affine=True, track_running_stats=True)\n      (prelu): PReLU(num_parameters=1)\n      (conv2): Conv2d(256, 256, kernel_size=(3, 3), stride=(1, 1), padding=(1, 1), bias=False)\n      (bn2): BatchNorm2d(256, eps=1e-05, momentum=0.1, affine=True, track_running_stats=True)\n      (se): SEBlock(\n        (avg_pool): AdaptiveAvgPool2d(output_size=1)\n        (fc): Sequential(\n          (0): Linear(in_features=256, out_features=16, bias=True)\n          (1): PReLU(num_parameters=1)\n          (2): Linear(in_features=16, out_features=256, bias=True)\n          (3): Sigmoid()\n        )\n      )\n    )\n    (10): IRBlock(\n      (bn0): BatchNorm2d(256, eps=1e-05, momentum=0.1, affine=True, track_running_stats=True)\n      (conv1): Conv2d(256, 256, kernel_size=(3, 3), stride=(1, 1), padding=(1, 1), bias=False)\n      (bn1): BatchNorm2d(256, eps=1e-05, momentum=0.1, affine=True, track_running_stats=True)\n      (prelu): PReLU(num_parameters=1)\n      (conv2): Conv2d(256, 256, kernel_size=(3, 3), stride=(1, 1), padding=(1, 1), bias=False)\n      (bn2): BatchNorm2d(256, eps=1e-05, momentum=0.1, affine=True, track_running_stats=True)\n      (se): SEBlock(\n        (avg_pool): AdaptiveAvgPool2d(output_size=1)\n        (fc): Sequential(\n          (0): Linear(in_features=256, out_features=16, bias=True)\n          (1): PReLU(num_parameters=1)\n          (2): Linear(in_features=16, out_features=256, bias=True)\n          (3): Sigmoid()\n        )\n      )\n    )\n    (11): IRBlock(\n      (bn0): BatchNorm2d(256, eps=1e-05, momentum=0.1, affine=True, track_running_stats=True)\n      (conv1): Conv2d(256, 256, kernel_size=(3, 3), stride=(1, 1), padding=(1, 1), bias=False)\n      (bn1): BatchNorm2d(256, eps=1e-05, momentum=0.1, affine=True, track_running_stats=True)\n      (prelu): PReLU(num_parameters=1)\n      (conv2): Conv2d(256, 256, kernel_size=(3, 3), stride=(1, 1), padding=(1, 1), bias=False)\n      (bn2): BatchNorm2d(256, eps=1e-05, momentum=0.1, affine=True, track_running_stats=True)\n      (se): SEBlock(\n        (avg_pool): AdaptiveAvgPool2d(output_size=1)\n        (fc): Sequential(\n          (0): Linear(in_features=256, out_features=16, bias=True)\n          (1): PReLU(num_parameters=1)\n          (2): Linear(in_features=16, out_features=256, bias=True)\n          (3): Sigmoid()\n        )\n      )\n    )\n    (12): IRBlock(\n      (bn0): BatchNorm2d(256, eps=1e-05, momentum=0.1, affine=True, track_running_stats=True)\n      (conv1): Conv2d(256, 256, kernel_size=(3, 3), stride=(1, 1), padding=(1, 1), bias=False)\n      (bn1): BatchNorm2d(256, eps=1e-05, momentum=0.1, affine=True, track_running_stats=True)\n      (prelu): PReLU(num_parameters=1)\n      (conv2): Conv2d(256, 256, kernel_size=(3, 3), stride=(1, 1), padding=(1, 1), bias=False)\n      (bn2): BatchNorm2d(256, eps=1e-05, momentum=0.1, affine=True, track_running_stats=True)\n      (se): SEBlock(\n        (avg_pool): AdaptiveAvgPool2d(output_size=1)\n        (fc): Sequential(\n          (0): Linear(in_features=256, out_features=16, bias=True)\n          (1): PReLU(num_parameters=1)\n          (2): Linear(in_features=16, out_features=256, bias=True)\n          (3): Sigmoid()\n        )\n      )\n    )\n    (13): IRBlock(\n      (bn0): BatchNorm2d(256, eps=1e-05, momentum=0.1, affine=True, track_running_stats=True)\n      (conv1): Conv2d(256, 256, kernel_size=(3, 3), stride=(1, 1), padding=(1, 1), bias=False)\n      (bn1): BatchNorm2d(256, eps=1e-05, momentum=0.1, affine=True, track_running_stats=True)\n      (prelu): PReLU(num_parameters=1)\n      (conv2): Conv2d(256, 256, kernel_size=(3, 3), stride=(1, 1), padding=(1, 1), bias=False)\n      (bn2): BatchNorm2d(256, eps=1e-05, momentum=0.1, affine=True, track_running_stats=True)\n      (se): SEBlock(\n        (avg_pool): AdaptiveAvgPool2d(output_size=1)\n        (fc): Sequential(\n          (0): Linear(in_features=256, out_features=16, bias=True)\n          (1): PReLU(num_parameters=1)\n          (2): Linear(in_features=16, out_features=256, bias=True)\n          (3): Sigmoid()\n        )\n      )\n    )\n    (14): IRBlock(\n      (bn0): BatchNorm2d(256, eps=1e-05, momentum=0.1, affine=True, track_running_stats=True)\n      (conv1): Conv2d(256, 256, kernel_size=(3, 3), stride=(1, 1), padding=(1, 1), bias=False)\n      (bn1): BatchNorm2d(256, eps=1e-05, momentum=0.1, affine=True, track_running_stats=True)\n      (prelu): PReLU(num_parameters=1)\n      (conv2): Conv2d(256, 256, kernel_size=(3, 3), stride=(1, 1), padding=(1, 1), bias=False)\n      (bn2): BatchNorm2d(256, eps=1e-05, momentum=0.1, affine=True, track_running_stats=True)\n      (se): SEBlock(\n        (avg_pool): AdaptiveAvgPool2d(output_size=1)\n        (fc): Sequential(\n          (0): Linear(in_features=256, out_features=16, bias=True)\n          (1): PReLU(num_parameters=1)\n          (2): Linear(in_features=16, out_features=256, bias=True)\n          (3): Sigmoid()\n        )\n      )\n    )\n    (15): IRBlock(\n      (bn0): BatchNorm2d(256, eps=1e-05, momentum=0.1, affine=True, track_running_stats=True)\n      (conv1): Conv2d(256, 256, kernel_size=(3, 3), stride=(1, 1), padding=(1, 1), bias=False)\n      (bn1): BatchNorm2d(256, eps=1e-05, momentum=0.1, affine=True, track_running_stats=True)\n      (prelu): PReLU(num_parameters=1)\n      (conv2): Conv2d(256, 256, kernel_size=(3, 3), stride=(1, 1), padding=(1, 1), bias=False)\n      (bn2): BatchNorm2d(256, eps=1e-05, momentum=0.1, affine=True, track_running_stats=True)\n      (se): SEBlock(\n        (avg_pool): AdaptiveAvgPool2d(output_size=1)\n        (fc): Sequential(\n          (0): Linear(in_features=256, out_features=16, bias=True)\n          (1): PReLU(num_parameters=1)\n          (2): Linear(in_features=16, out_features=256, bias=True)\n          (3): Sigmoid()\n        )\n      )\n    )\n    (16): IRBlock(\n      (bn0): BatchNorm2d(256, eps=1e-05, momentum=0.1, affine=True, track_running_stats=True)\n      (conv1): Conv2d(256, 256, kernel_size=(3, 3), stride=(1, 1), padding=(1, 1), bias=False)\n      (bn1): BatchNorm2d(256, eps=1e-05, momentum=0.1, affine=True, track_running_stats=True)\n      (prelu): PReLU(num_parameters=1)\n      (conv2): Conv2d(256, 256, kernel_size=(3, 3), stride=(1, 1), padding=(1, 1), bias=False)\n      (bn2): BatchNorm2d(256, eps=1e-05, momentum=0.1, affine=True, track_running_stats=True)\n      (se): SEBlock(\n        (avg_pool): AdaptiveAvgPool2d(output_size=1)\n        (fc): Sequential(\n          (0): Linear(in_features=256, out_features=16, bias=True)\n          (1): PReLU(num_parameters=1)\n          (2): Linear(in_features=16, out_features=256, bias=True)\n          (3): Sigmoid()\n        )\n      )\n    )\n    (17): IRBlock(\n      (bn0): BatchNorm2d(256, eps=1e-05, momentum=0.1, affine=True, track_running_stats=True)\n      (conv1): Conv2d(256, 256, kernel_size=(3, 3), stride=(1, 1), padding=(1, 1), bias=False)\n      (bn1): BatchNorm2d(256, eps=1e-05, momentum=0.1, affine=True, track_running_stats=True)\n      (prelu): PReLU(num_parameters=1)\n      (conv2): Conv2d(256, 256, kernel_size=(3, 3), stride=(1, 1), padding=(1, 1), bias=False)\n      (bn2): BatchNorm2d(256, eps=1e-05, momentum=0.1, affine=True, track_running_stats=True)\n      (se): SEBlock(\n        (avg_pool): AdaptiveAvgPool2d(output_size=1)\n        (fc): Sequential(\n          (0): Linear(in_features=256, out_features=16, bias=True)\n          (1): PReLU(num_parameters=1)\n          (2): Linear(in_features=16, out_features=256, bias=True)\n          (3): Sigmoid()\n        )\n      )\n    )\n    (18): IRBlock(\n      (bn0): BatchNorm2d(256, eps=1e-05, momentum=0.1, affine=True, track_running_stats=True)\n      (conv1): Conv2d(256, 256, kernel_size=(3, 3), stride=(1, 1), padding=(1, 1), bias=False)\n      (bn1): BatchNorm2d(256, eps=1e-05, momentum=0.1, affine=True, track_running_stats=True)\n      (prelu): PReLU(num_parameters=1)\n      (conv2): Conv2d(256, 256, kernel_size=(3, 3), stride=(1, 1), padding=(1, 1), bias=False)\n      (bn2): BatchNorm2d(256, eps=1e-05, momentum=0.1, affine=True, track_running_stats=True)\n      (se): SEBlock(\n        (avg_pool): AdaptiveAvgPool2d(output_size=1)\n        (fc): Sequential(\n          (0): Linear(in_features=256, out_features=16, bias=True)\n          (1): PReLU(num_parameters=1)\n          (2): Linear(in_features=16, out_features=256, bias=True)\n          (3): Sigmoid()\n        )\n      )\n    )\n    (19): IRBlock(\n      (bn0): BatchNorm2d(256, eps=1e-05, momentum=0.1, affine=True, track_running_stats=True)\n      (conv1): Conv2d(256, 256, kernel_size=(3, 3), stride=(1, 1), padding=(1, 1), bias=False)\n      (bn1): BatchNorm2d(256, eps=1e-05, momentum=0.1, affine=True, track_running_stats=True)\n      (prelu): PReLU(num_parameters=1)\n      (conv2): Conv2d(256, 256, kernel_size=(3, 3), stride=(1, 1), padding=(1, 1), bias=False)\n      (bn2): BatchNorm2d(256, eps=1e-05, momentum=0.1, affine=True, track_running_stats=True)\n      (se): SEBlock(\n        (avg_pool): AdaptiveAvgPool2d(output_size=1)\n        (fc): Sequential(\n          (0): Linear(in_features=256, out_features=16, bias=True)\n          (1): PReLU(num_parameters=1)\n          (2): Linear(in_features=16, out_features=256, bias=True)\n          (3): Sigmoid()\n        )\n      )\n    )\n    (20): IRBlock(\n      (bn0): BatchNorm2d(256, eps=1e-05, momentum=0.1, affine=True, track_running_stats=True)\n      (conv1): Conv2d(256, 256, kernel_size=(3, 3), stride=(1, 1), padding=(1, 1), bias=False)\n      (bn1): BatchNorm2d(256, eps=1e-05, momentum=0.1, affine=True, track_running_stats=True)\n      (prelu): PReLU(num_parameters=1)\n      (conv2): Conv2d(256, 256, kernel_size=(3, 3), stride=(1, 1), padding=(1, 1), bias=False)\n      (bn2): BatchNorm2d(256, eps=1e-05, momentum=0.1, affine=True, track_running_stats=True)\n      (se): SEBlock(\n        (avg_pool): AdaptiveAvgPool2d(output_size=1)\n        (fc): Sequential(\n          (0): Linear(in_features=256, out_features=16, bias=True)\n          (1): PReLU(num_parameters=1)\n          (2): Linear(in_features=16, out_features=256, bias=True)\n          (3): Sigmoid()\n        )\n      )\n    )\n    (21): IRBlock(\n      (bn0): BatchNorm2d(256, eps=1e-05, momentum=0.1, affine=True, track_running_stats=True)\n      (conv1): Conv2d(256, 256, kernel_size=(3, 3), stride=(1, 1), padding=(1, 1), bias=False)\n      (bn1): BatchNorm2d(256, eps=1e-05, momentum=0.1, affine=True, track_running_stats=True)\n      (prelu): PReLU(num_parameters=1)\n      (conv2): Conv2d(256, 256, kernel_size=(3, 3), stride=(1, 1), padding=(1, 1), bias=False)\n      (bn2): BatchNorm2d(256, eps=1e-05, momentum=0.1, affine=True, track_running_stats=True)\n      (se): SEBlock(\n        (avg_pool): AdaptiveAvgPool2d(output_size=1)\n        (fc): Sequential(\n          (0): Linear(in_features=256, out_features=16, bias=True)\n          (1): PReLU(num_parameters=1)\n          (2): Linear(in_features=16, out_features=256, bias=True)\n          (3): Sigmoid()\n        )\n      )\n    )\n    (22): IRBlock(\n      (bn0): BatchNorm2d(256, eps=1e-05, momentum=0.1, affine=True, track_running_stats=True)\n      (conv1): Conv2d(256, 256, kernel_size=(3, 3), stride=(1, 1), padding=(1, 1), bias=False)\n      (bn1): BatchNorm2d(256, eps=1e-05, momentum=0.1, affine=True, track_running_stats=True)\n      (prelu): PReLU(num_parameters=1)\n      (conv2): Conv2d(256, 256, kernel_size=(3, 3), stride=(1, 1), padding=(1, 1), bias=False)\n      (bn2): BatchNorm2d(256, eps=1e-05, momentum=0.1, affine=True, track_running_stats=True)\n      (se): SEBlock(\n        (avg_pool): AdaptiveAvgPool2d(output_size=1)\n        (fc): Sequential(\n          (0): Linear(in_features=256, out_features=16, bias=True)\n          (1): PReLU(num_parameters=1)\n          (2): Linear(in_features=16, out_features=256, bias=True)\n          (3): Sigmoid()\n        )\n      )\n    )\n  )\n  (layer4): Sequential(\n    (0): IRBlock(\n      (bn0): BatchNorm2d(256, eps=1e-05, momentum=0.1, affine=True, track_running_stats=True)\n      (conv1): Conv2d(256, 256, kernel_size=(3, 3), stride=(1, 1), padding=(1, 1), bias=False)\n      (bn1): BatchNorm2d(256, eps=1e-05, momentum=0.1, affine=True, track_running_stats=True)\n      (prelu): PReLU(num_parameters=1)\n      (conv2): Conv2d(256, 512, kernel_size=(3, 3), stride=(2, 2), padding=(1, 1), bias=False)\n      (bn2): BatchNorm2d(512, eps=1e-05, momentum=0.1, affine=True, track_running_stats=True)\n      (downsample): Sequential(\n        (0): Conv2d(256, 512, kernel_size=(1, 1), stride=(2, 2), bias=False)\n        (1): BatchNorm2d(512, eps=1e-05, momentum=0.1, affine=True, track_running_stats=True)\n      )\n      (se): SEBlock(\n        (avg_pool): AdaptiveAvgPool2d(output_size=1)\n        (fc): Sequential(\n          (0): Linear(in_features=512, out_features=32, bias=True)\n          (1): PReLU(num_parameters=1)\n          (2): Linear(in_features=32, out_features=512, bias=True)\n          (3): Sigmoid()\n        )\n      )\n    )\n    (1): IRBlock(\n      (bn0): BatchNorm2d(512, eps=1e-05, momentum=0.1, affine=True, track_running_stats=True)\n      (conv1): Conv2d(512, 512, kernel_size=(3, 3), stride=(1, 1), padding=(1, 1), bias=False)\n      (bn1): BatchNorm2d(512, eps=1e-05, momentum=0.1, affine=True, track_running_stats=True)\n      (prelu): PReLU(num_parameters=1)\n      (conv2): Conv2d(512, 512, kernel_size=(3, 3), stride=(1, 1), padding=(1, 1), bias=False)\n      (bn2): BatchNorm2d(512, eps=1e-05, momentum=0.1, affine=True, track_running_stats=True)\n      (se): SEBlock(\n        (avg_pool): AdaptiveAvgPool2d(output_size=1)\n        (fc): Sequential(\n          (0): Linear(in_features=512, out_features=32, bias=True)\n          (1): PReLU(num_parameters=1)\n          (2): Linear(in_features=32, out_features=512, bias=True)\n          (3): Sigmoid()\n        )\n      )\n    )\n    (2): IRBlock(\n      (bn0): BatchNorm2d(512, eps=1e-05, momentum=0.1, affine=True, track_running_stats=True)\n      (conv1): Conv2d(512, 512, kernel_size=(3, 3), stride=(1, 1), padding=(1, 1), bias=False)\n      (bn1): BatchNorm2d(512, eps=1e-05, momentum=0.1, affine=True, track_running_stats=True)\n      (prelu): PReLU(num_parameters=1)\n      (conv2): Conv2d(512, 512, kernel_size=(3, 3), stride=(1, 1), padding=(1, 1), bias=False)\n      (bn2): BatchNorm2d(512, eps=1e-05, momentum=0.1, affine=True, track_running_stats=True)\n      (se): SEBlock(\n        (avg_pool): AdaptiveAvgPool2d(output_size=1)\n        (fc): Sequential(\n          (0): Linear(in_features=512, out_features=32, bias=True)\n          (1): PReLU(num_parameters=1)\n          (2): Linear(in_features=32, out_features=512, bias=True)\n          (3): Sigmoid()\n        )\n      )\n    )\n  )\n  (bn2): BatchNorm2d(512, eps=1e-05, momentum=0.1, affine=True, track_running_stats=True)\n  (dropout): Dropout(p=0.5, inplace=False)\n  (fc): Linear(in_features=25088, out_features=512, bias=True)\n  (bn3): BatchNorm1d(512, eps=1e-05, momentum=0.1, affine=True, track_running_stats=True)\n)"
     },
     "execution_count": 6,
     "metadata": {},
     "output_type": "execute_result"
    }
   ],
   "source": [
    "checkpoint = 'BEST_checkpoint_r101.tar'\n",
    "checkpoint = torch.load(checkpoint)\n",
    "model = checkpoint['model'].module\n",
    "model = model.to(device)\n",
    "model.eval()"
   ],
   "metadata": {
    "collapsed": false,
    "pycharm": {
     "name": "#%%\n"
    }
   }
  },
  {
   "cell_type": "code",
   "execution_count": 7,
   "outputs": [],
   "source": [
    "labels = []\n",
    "embeddings = []\n",
    "imgs = []\n",
    "with torch.no_grad():\n",
    "    for xb, yb in embed_loader:\n",
    "\n",
    "        xb = xb.to(device)\n",
    "        b_embeddings = model(xb)\n",
    "        b_embeddings = b_embeddings.to('cpu').numpy()\n",
    "        labels.extend(yb.numpy())\n",
    "        embeddings.extend(b_embeddings)\n",
    "        imgs.extend(xb)\n"
   ],
   "metadata": {
    "collapsed": false,
    "pycharm": {
     "name": "#%%\n"
    }
   }
  },
  {
   "cell_type": "code",
   "execution_count": 8,
   "outputs": [],
   "source": [
    "from sklearn.model_selection import cross_val_score, cross_val_predict, train_test_split\n",
    "from sklearn.neighbors import RadiusNeighborsClassifier\n",
    "from sklearn.model_selection import StratifiedKFold\n",
    "from sklearn.base import BaseEstimator\n",
    "\n",
    "train_embeddings, val_embeddings, train_labels, val_labels, train_imgs, val_imgs = map(np.array, train_test_split(embeddings, labels, imgs,test_size=.5))"
   ],
   "metadata": {
    "collapsed": false,
    "pycharm": {
     "name": "#%%\n"
    }
   }
  },
  {
   "cell_type": "code",
   "execution_count": 9,
   "outputs": [],
   "source": [
    "def angular_distance(feature0,feature1):\n",
    "    x0 = feature0 / np.linalg.norm(feature0)\n",
    "    x1 = feature1 / np.linalg.norm(feature1)\n",
    "    cosine = np.dot(x0,x1)\n",
    "    cosine = np.clip(cosine, -1.0, 1.0)\n",
    "    theta = np.arccos(cosine)\n",
    "    theta = theta * 180 / np.pi\n",
    "\n",
    "    return theta\n",
    "\n",
    "# def cosine_similarity(x1, x2):\n",
    "#     return np.dot(x1, x2) / (np.linalg.norm(x1) * np.linalg.norm(x2))\n",
    "\n",
    "class ThresholdKNN(BaseEstimator):\n",
    "    def __init__(self,  n_neighbors, threshold, metric, outlier_value):\n",
    "        self.n_neighbors = n_neighbors\n",
    "        self.threshold = threshold\n",
    "        self.metric = metric\n",
    "        self.outlier_value = outlier_value\n",
    "\n",
    "    def fit(self,X,y):\n",
    "        self.train_embeddings = np.array(X)\n",
    "        self.train_labels = np.array(y)\n",
    "\n",
    "    def predict(self, X):\n",
    "        sims = []\n",
    "        preds = []\n",
    "        for x in X:\n",
    "            sim = []\n",
    "            for train_embedding in self.train_embeddings:\n",
    "                sim.append(self.metric(x, train_embedding))\n",
    "            sims.append(np.array(sim))\n",
    "\n",
    "        for sim in sims:\n",
    "            threshold_mask = sim < self.threshold\n",
    "            sorted_index = np.argsort(sim)\n",
    "            k_neighbors_index = sorted_index[threshold_mask[sorted_index]][:self.n_neighbors]\n",
    "            if len(k_neighbors_index) >0:\n",
    "                k_neighbors = self.train_labels[k_neighbors_index]\n",
    "                votes = np.unique(k_neighbors, return_counts=True)\n",
    "                highest_votes = votes[0][np.argmax(votes[1])]\n",
    "                preds.append(highest_votes)\n",
    "            else:\n",
    "                preds.append(self.outlier_value)\n",
    "\n",
    "        return np.array(preds)\n",
    "\n",
    "    def score(self, X, y):\n",
    "        accuracy = np.sum(np.equal(self.predict(X), y))/len(y)\n",
    "        return accuracy\n",
    "\n",
    "#     def get_params(self, deep=True):\n",
    "#         return dict(n_neighbors=self.n_neighbors,threshold=self.threshold, distance_fn=self.distance_fn, outlier_value=self.outlier_value)\n",
    "#\n",
    "#     def set_params(self,):\n",
    "#"
   ],
   "metadata": {
    "collapsed": false,
    "pycharm": {
     "name": "#%%\n"
    }
   }
  },
  {
   "cell_type": "code",
   "execution_count": 10,
   "outputs": [],
   "source": [
    "# knn = ThresholdKNN(k=5, threshold=75, distance_fn=angular_distance, outlier_value =-1)\n",
    "# knn.fit(train_embeddings,train_labels)\n",
    "# val_preds = knn.predict(val_embeddings)\n",
    "# accuracy_score(val_labels, val_preds)"
   ],
   "metadata": {
    "collapsed": false,
    "pycharm": {
     "name": "#%%\n"
    }
   }
  },
  {
   "cell_type": "code",
   "execution_count": 11,
   "outputs": [],
   "source": [
    "#knn.score(val_embeddings,val_labels)"
   ],
   "metadata": {
    "collapsed": false,
    "pycharm": {
     "name": "#%%\n"
    }
   }
  },
  {
   "cell_type": "code",
   "execution_count": 12,
   "outputs": [],
   "source": [
    "# def find_best_threshold(val_embedding, val_labels, train_embeddings, train_labels, thresholds, majority_req):\n",
    "#     accuracy = []\n",
    "#     for threshold in thresholds:\n",
    "#         val_preds = []\n",
    "#         for val_embedding in val_embeddings:\n",
    "#             val_preds.append(threshold_nearest_neighbor(val_embedding, train_embeddings, train_labels, threshold, majority_req))\n",
    "#         accuracy.append(accuracy_score(val_labels,val_preds))\n",
    "#     return [x for x in zip(thresholds,accuracy)]"
   ],
   "metadata": {
    "collapsed": false,
    "pycharm": {
     "name": "#%%\n"
    }
   }
  },
  {
   "cell_type": "code",
   "execution_count": 13,
   "outputs": [],
   "source": [
    "# thresholds = thresholds = np.arange(0, 200,2)\n",
    "# find_best_threshold(val_embedding, val_labels, train_embeddings, train_labels, thresholds, False)\n"
   ],
   "metadata": {
    "collapsed": false,
    "pycharm": {
     "name": "#%%\n"
    }
   }
  },
  {
   "cell_type": "code",
   "execution_count": 14,
   "outputs": [],
   "source": [
    "from sklearn.neighbors import KNeighborsClassifier, RadiusNeighborsClassifier\n",
    "from scipy.spatial.distance import cosine as cosine_distance\n",
    "\n",
    "cv = StratifiedKFold(5, shuffle=True, random_state=0)\n",
    "knn = KNeighborsClassifier(n_neighbors=3, metric=angular_distance)\n",
    "threshold_knn = ThresholdKNN(n_neighbors=5, threshold=75, metric=angular_distance, outlier_value =1)\n",
    "radius_knn = RadiusNeighborsClassifier(radius=70, metric=angular_distance,outlier_label=1)\n",
    "\n"
   ],
   "metadata": {
    "collapsed": false,
    "pycharm": {
     "name": "#%%\n"
    }
   }
  },
  {
   "cell_type": "code",
   "execution_count": 15,
   "outputs": [],
   "source": [
    " from sklearn.model_selection import GridSearchCV\n",
    "#\n",
    "# knn_params = dict(n_neighbors=range(1,16), metric=[angular_distance,cosine_distance])\n",
    "# knn_grid = GridSearchCV(knn, param_grid=knn_params)\n",
    "# knn_grid.fit(embeddings,labels)"
   ],
   "metadata": {
    "collapsed": false,
    "pycharm": {
     "name": "#%%\n"
    }
   }
  },
  {
   "cell_type": "code",
   "execution_count": 16,
   "outputs": [],
   "source": [
    "# print(knn_grid.best_params_)\n",
    "# knn_grid.best_estimator_.score(val_embeddings,val_labels)"
   ],
   "metadata": {
    "collapsed": false,
    "pycharm": {
     "name": "#%%\n"
    }
   }
  },
  {
   "cell_type": "code",
   "execution_count": 17,
   "outputs": [
    {
     "data": {
      "text/plain": "GridSearchCV(estimator=ThresholdKNN(metric=<function angular_distance at 0x7f6fa3a6a440>,\n                                    n_neighbors=5, outlier_value=1,\n                                    threshold=75),\n             param_grid={'metric': [<function angular_distance at 0x7f6fa3a6a440>],\n                         'n_neighbors': range(1, 16),\n                         'threshold': range(65, 86)})"
     },
     "execution_count": 17,
     "metadata": {},
     "output_type": "execute_result"
    }
   ],
   "source": [
    "threshold_knn_params = dict(n_neighbors=range(3,10), threshold=range(65,86), metric=[angular_distance])\n",
    "threshold_knn_grid = GridSearchCV(threshold_knn, param_grid=threshold_knn_params, n_jobs=8)\n",
    "threshold_knn_grid.fit(embeddings,labels)"
   ],
   "metadata": {
    "collapsed": false,
    "pycharm": {
     "name": "#%%\n"
    }
   }
  },
  {
   "cell_type": "code",
   "execution_count": 18,
   "outputs": [
    {
     "name": "stdout",
     "output_type": "stream",
     "text": [
      "{'metric': <function angular_distance at 0x7f6fa3a6a440>, 'n_neighbors': 3, 'threshold': 70}\n"
     ]
    },
    {
     "data": {
      "text/plain": "0.9836065573770492"
     },
     "execution_count": 18,
     "metadata": {},
     "output_type": "execute_result"
    }
   ],
   "source": [
    "print(threshold_knn_grid.best_params_)\n",
    "threshold_knn_grid.best_estimator_.score(val_embeddings,val_labels)\n"
   ],
   "metadata": {
    "collapsed": false,
    "pycharm": {
     "name": "#%%\n"
    }
   }
  },
  {
   "cell_type": "code",
   "execution_count": 22,
   "outputs": [
    {
     "data": {
      "text/plain": "GridSearchCV(estimator=RadiusNeighborsClassifier(metric=<function angular_distance at 0x7f6fa3a6a440>,\n                                                 outlier_label=1, radius=70),\n             n_jobs=8,\n             param_grid={'metric': [<function angular_distance at 0x7f6fa3a6a440>],\n                         'radius': range(65, 86, 2),\n                         'weights': ['uniform', 'distance']})"
     },
     "execution_count": 22,
     "metadata": {},
     "output_type": "execute_result"
    }
   ],
   "source": [
    "radius_knn_params = dict(radius=range(65,86,2), metric=[angular_distance], weights=['uniform','distance'])\n",
    "radius_knn_grid = GridSearchCV(radius_knn, param_grid=radius_knn_params, n_jobs=8)\n",
    "radius_knn_grid.fit(embeddings,labels)"
   ],
   "metadata": {
    "collapsed": false,
    "pycharm": {
     "name": "#%%\n"
    }
   }
  },
  {
   "cell_type": "code",
   "execution_count": 23,
   "outputs": [
    {
     "name": "stdout",
     "output_type": "stream",
     "text": [
      "{'metric': <function angular_distance at 0x7f6fa3a6a440>, 'radius': 73, 'weights': 'distance'}\n"
     ]
    },
    {
     "data": {
      "text/plain": "1.0"
     },
     "execution_count": 23,
     "metadata": {},
     "output_type": "execute_result"
    }
   ],
   "source": [
    "print(radius_knn_grid.best_params_)\n",
    "radius_knn_grid.best_estimator_.score(val_embeddings,val_labels)\n"
   ],
   "metadata": {
    "collapsed": false,
    "pycharm": {
     "name": "#%%\n"
    }
   }
  }
 ],
 "metadata": {
  "kernelspec": {
   "display_name": "Python 3",
   "language": "python",
   "name": "python3"
  },
  "language_info": {
   "codemirror_mode": {
    "name": "ipython",
    "version": 2
   },
   "file_extension": ".py",
   "mimetype": "text/x-python",
   "name": "python",
   "nbconvert_exporter": "python",
   "pygments_lexer": "ipython2",
   "version": "2.7.6"
  }
 },
 "nbformat": 4,
 "nbformat_minor": 0
}